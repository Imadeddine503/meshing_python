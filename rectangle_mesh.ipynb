{
  "nbformat": 4,
  "nbformat_minor": 0,
  "metadata": {
    "colab": {
      "provenance": [],
      "authorship_tag": "ABX9TyPixo2qAuUeCZ5Ir7mLSAlq",
      "include_colab_link": true
    },
    "kernelspec": {
      "name": "python3",
      "display_name": "Python 3"
    },
    "language_info": {
      "name": "python"
    }
  },
  "cells": [
    {
      "cell_type": "markdown",
      "metadata": {
        "id": "view-in-github",
        "colab_type": "text"
      },
      "source": [
        "<a href=\"https://colab.research.google.com/github/Imadeddine503/meshing_python/blob/main/rectangle_mesh.ipynb\" target=\"_parent\"><img src=\"https://colab.research.google.com/assets/colab-badge.svg\" alt=\"Open In Colab\"/></a>"
      ]
    },
    {
      "cell_type": "code",
      "execution_count": 6,
      "metadata": {
        "id": "hwLiaO9aw306"
      },
      "outputs": [],
      "source": [
        "import numpy as np\n",
        "\n",
        "\n",
        "# Parameters:\n",
        "\n",
        "length = 2\n",
        "height = 1\n",
        "nx = 16\n",
        "ny = 4\n",
        "\n",
        "\n",
        "# Generate nodes\n",
        "x = np.linspace(0, length, nx + 1)\n",
        "y = np.linspace(0, height, ny + 1)\n",
        "nodes = [(i, j) for j in y for i in x]\n",
        "\n",
        "# Generate elements (triangular mesh)\n",
        "elements = []\n",
        "for j in range(ny):\n",
        "    for i in range(nx):\n",
        "        # Get indices of the 4 corners of the cell\n",
        "        n1 = j * (nx + 1) + i\n",
        "        n2 = n1 + 1\n",
        "        n3 = n1 + (nx + 1)\n",
        "        n4 = n3 + 1\n",
        "\n",
        "        # Create two triangles per cell\n",
        "        elements.append([n1, n2, n4])  # First triangle\n",
        "        elements.append([n1, n4, n3])  # Second triangle\n",
        "\n",
        "# Convert to NumPy arrays\n",
        "nodes = np.array(nodes)\n",
        "elements = np.array(elements)"
      ]
    },
    {
      "cell_type": "code",
      "source": [
        "# Print results\n",
        "print(\"Nodes (index, x, y):\")\n",
        "for idx, (x, y) in enumerate(nodes):\n",
        "    print(f\"{idx}: ({x:.2f}, {y:.2f})\")\n",
        "\n",
        "print(\"\\nElements (node indices):\")\n",
        "for idx, elem in enumerate(elements):\n",
        "    print(f\"{idx}: {elem}\")"
      ],
      "metadata": {
        "colab": {
          "base_uri": "https://localhost:8080/"
        },
        "id": "cl__n4FnynGg",
        "outputId": "ea345c2c-d813-4a3b-9ccc-f50b61e5481d"
      },
      "execution_count": 4,
      "outputs": [
        {
          "output_type": "stream",
          "name": "stdout",
          "text": [
            "Nodes (index, x, y):\n",
            "0: (0.00, 0.00)\n",
            "1: (0.50, 0.00)\n",
            "2: (1.00, 0.00)\n",
            "3: (1.50, 0.00)\n",
            "4: (2.00, 0.00)\n",
            "5: (0.00, 0.50)\n",
            "6: (0.50, 0.50)\n",
            "7: (1.00, 0.50)\n",
            "8: (1.50, 0.50)\n",
            "9: (2.00, 0.50)\n",
            "10: (0.00, 1.00)\n",
            "11: (0.50, 1.00)\n",
            "12: (1.00, 1.00)\n",
            "13: (1.50, 1.00)\n",
            "14: (2.00, 1.00)\n",
            "\n",
            "Elements (node indices):\n",
            "0: [0 1 6]\n",
            "1: [0 6 5]\n",
            "2: [1 2 7]\n",
            "3: [1 7 6]\n",
            "4: [2 3 8]\n",
            "5: [2 8 7]\n",
            "6: [3 4 9]\n",
            "7: [3 9 8]\n",
            "8: [ 5  6 11]\n",
            "9: [ 5 11 10]\n",
            "10: [ 6  7 12]\n",
            "11: [ 6 12 11]\n",
            "12: [ 7  8 13]\n",
            "13: [ 7 13 12]\n",
            "14: [ 8  9 14]\n",
            "15: [ 8 14 13]\n"
          ]
        }
      ]
    },
    {
      "cell_type": "code",
      "source": [
        "import matplotlib.pyplot as plt\n",
        "\n",
        "# Plot the nodes\n",
        "plt.figure(figsize=(8, 4))\n",
        "plt.scatter(nodes[:, 0], nodes[:, 1], c='red', label=\"Nodes\")\n",
        "\n",
        "# Plot the elements\n",
        "for elem in elements:\n",
        "    x_coords = nodes[elem, 0]\n",
        "    y_coords = nodes[elem, 1]\n",
        "    plt.fill(x_coords, y_coords, edgecolor='black', fill=False)\n",
        "\n",
        "plt.title(\"2D Finite Element Mesh (Triangular)\")\n",
        "plt.xlabel(\"X\")\n",
        "plt.ylabel(\"Y\")\n",
        "plt.legend()\n",
        "plt.gca().set_aspect('equal', adjustable='box')\n",
        "plt.show()"
      ],
      "metadata": {
        "colab": {
          "base_uri": "https://localhost:8080/",
          "height": 410
        },
        "id": "w_Lebw52yrNW",
        "outputId": "33a2c6f1-f426-4abb-b0fa-2b95b75944c2"
      },
      "execution_count": 7,
      "outputs": [
        {
          "output_type": "display_data",
          "data": {
            "text/plain": [
              "<Figure size 800x400 with 1 Axes>"
            ],
            "image/png": "[encoded data removed]"
          },
          "metadata": {}
        }
      ]
    }
  ]
}